{
 "cells": [
  {
   "cell_type": "code",
   "execution_count": null,
   "metadata": {},
   "outputs": [],
   "source": [
    "import requests\n",
    "\n",
    "response = requests.get('http://127.0.0.1:8000/')\n",
    "response.content\n"
   ]
  },
  {
   "cell_type": "code",
   "execution_count": null,
   "metadata": {},
   "outputs": [],
   "source": [
    "data = {'name':'Kevin'}\n",
    "response = requests.get('http://127.0.0.1:8000/hello', params=data)\n",
    "response.text"
   ]
  },
  {
   "cell_type": "code",
   "execution_count": null,
   "metadata": {},
   "outputs": [],
   "source": [
    "data = {'name':'Kevin'}\n",
    "response = requests.get('http://127.0.0.1:8000/hello/Kevin')\n",
    "response.text"
   ]
  },
  {
   "cell_type": "code",
   "execution_count": null,
   "metadata": {},
   "outputs": [],
   "source": [
    "data = {'number':9}\n",
    "response = requests.post('http://127.0.0.1:8000/root_square', data=data)\n"
   ]
  },
  {
   "cell_type": "code",
   "execution_count": null,
   "metadata": {},
   "outputs": [],
   "source": [
    "from pydantic import BaseModel\n",
    "\n",
    "class Credit(BaseModel) :\n",
    "    age:int\n",
    "    job:int\n",
    "    marital:int\n",
    "    education:int\n",
    "    default:int\n",
    "    balance:int\n",
    "    housing:int\n",
    "    loan:int\n",
    "    campaign:int\n",
    "    pdays:int\n",
    "    previous:int\n",
    "    poutcome:int\n",
    "\n",
    "data={\n",
    "    \"age\":58,\n",
    "    \"job\":1,\n",
    "    \"marital\":1,\n",
    "    \"education\":2,\n",
    "    \"default\":0,\n",
    "    \"balance\":2143,\n",
    "    \"housing\":1,\n",
    "    \"loan\":0,\n",
    "    \"campaign\":1,\n",
    "    \"pdays\":-1,\n",
    "    \"previous\":0,\n",
    "    \"poutcome\":3    \n",
    "}\n",
    "\n",
    "data = Credit(**data)\n",
    "\n",
    "list(data.dict().values())"
   ]
  },
  {
   "cell_type": "code",
   "execution_count": null,
   "metadata": {},
   "outputs": [],
   "source": [
    "import pickle\n",
    "\n",
    "with open('model.pkl', 'rb') as f:\n",
    "    model=pickle.load(f)\n",
    "\n",
    "predict_value = int(model.predict([list(data.dict().values())])[0])"
   ]
  },
  {
   "cell_type": "code",
   "execution_count": null,
   "metadata": {},
   "outputs": [],
   "source": [
    "filpath='data.csv'\n",
    "response = requests.post('http://127.0.0.1:8000/uploadfile', files={'file':open(filpath,'rb')})\n",
    "response.text"
   ]
  }
 ],
 "metadata": {
  "language_info": {
   "name": "python"
  }
 },
 "nbformat": 4,
 "nbformat_minor": 2
}
